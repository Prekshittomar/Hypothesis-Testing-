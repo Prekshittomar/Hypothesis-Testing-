{
 "cells": [
  {
   "cell_type": "markdown",
   "id": "d66e536d",
   "metadata": {},
   "source": [
    "# Hypothesis testing with Python"
   ]
  },
  {
   "cell_type": "markdown",
   "id": "0c9e6382",
   "metadata": {},
   "source": [
    "## **Step 1: Imports** \n"
   ]
  },
  {
   "cell_type": "markdown",
   "id": "4e3952a7",
   "metadata": {},
   "source": [
    "Import pandas, pyplot from matplotlib, seaborn, api from statsmodels, ols from statsmodels.formula.api, and pairwise_tukeyhsd from statsmodels.stats.multicomp."
   ]
  },
  {
   "cell_type": "code",
   "execution_count": 1,
   "id": "b1c66875",
   "metadata": {},
   "outputs": [],
   "source": [
    "import pandas as pd\n",
    "import matplotlib.pyplot as plt\n",
    "import seaborn as sns\n",
    "import statsmodels.api as sm\n",
    "from statsmodels.formula.api import ols\n",
    "from statsmodels.stats.multicomp import pairwise_tukeyhsd"
   ]
  },
  {
   "cell_type": "markdown",
   "id": "91772942",
   "metadata": {},
   "source": [
    "Load the dataset `marketing_sales_data.csv` as `data`, and display the first five rows. The variables in the dataset have been adjusted to suit the objectives of this lab."
   ]
  },
  {
   "cell_type": "code",
   "execution_count": 2,
   "id": "1487b296",
   "metadata": {},
   "outputs": [],
   "source": [
    "data = pd.read_csv('marketing_sales_data.csv')\n"
   ]
  },
  {
   "cell_type": "code",
   "execution_count": 3,
   "id": "73f796b7",
   "metadata": {},
   "outputs": [
    {
     "data": {
      "text/html": [
       "<div>\n",
       "<style scoped>\n",
       "    .dataframe tbody tr th:only-of-type {\n",
       "        vertical-align: middle;\n",
       "    }\n",
       "\n",
       "    .dataframe tbody tr th {\n",
       "        vertical-align: top;\n",
       "    }\n",
       "\n",
       "    .dataframe thead th {\n",
       "        text-align: right;\n",
       "    }\n",
       "</style>\n",
       "<table border=\"1\" class=\"dataframe\">\n",
       "  <thead>\n",
       "    <tr style=\"text-align: right;\">\n",
       "      <th></th>\n",
       "      <th>TV</th>\n",
       "      <th>Radio</th>\n",
       "      <th>Social Media</th>\n",
       "      <th>Influencer</th>\n",
       "      <th>Sales</th>\n",
       "    </tr>\n",
       "  </thead>\n",
       "  <tbody>\n",
       "    <tr>\n",
       "      <th>0</th>\n",
       "      <td>Low</td>\n",
       "      <td>1.218354</td>\n",
       "      <td>1.270444</td>\n",
       "      <td>Micro</td>\n",
       "      <td>90.054222</td>\n",
       "    </tr>\n",
       "    <tr>\n",
       "      <th>1</th>\n",
       "      <td>Medium</td>\n",
       "      <td>14.949791</td>\n",
       "      <td>0.274451</td>\n",
       "      <td>Macro</td>\n",
       "      <td>222.741668</td>\n",
       "    </tr>\n",
       "    <tr>\n",
       "      <th>2</th>\n",
       "      <td>Low</td>\n",
       "      <td>10.377258</td>\n",
       "      <td>0.061984</td>\n",
       "      <td>Mega</td>\n",
       "      <td>102.774790</td>\n",
       "    </tr>\n",
       "    <tr>\n",
       "      <th>3</th>\n",
       "      <td>High</td>\n",
       "      <td>26.469274</td>\n",
       "      <td>7.070945</td>\n",
       "      <td>Micro</td>\n",
       "      <td>328.239378</td>\n",
       "    </tr>\n",
       "    <tr>\n",
       "      <th>4</th>\n",
       "      <td>High</td>\n",
       "      <td>36.876302</td>\n",
       "      <td>7.618605</td>\n",
       "      <td>Mega</td>\n",
       "      <td>351.807328</td>\n",
       "    </tr>\n",
       "    <tr>\n",
       "      <th>5</th>\n",
       "      <td>High</td>\n",
       "      <td>25.561910</td>\n",
       "      <td>5.459718</td>\n",
       "      <td>Micro</td>\n",
       "      <td>261.966812</td>\n",
       "    </tr>\n",
       "    <tr>\n",
       "      <th>6</th>\n",
       "      <td>High</td>\n",
       "      <td>37.263819</td>\n",
       "      <td>6.886535</td>\n",
       "      <td>Nano</td>\n",
       "      <td>349.861575</td>\n",
       "    </tr>\n",
       "    <tr>\n",
       "      <th>7</th>\n",
       "      <td>Low</td>\n",
       "      <td>13.187256</td>\n",
       "      <td>2.766352</td>\n",
       "      <td>Macro</td>\n",
       "      <td>140.415286</td>\n",
       "    </tr>\n",
       "    <tr>\n",
       "      <th>8</th>\n",
       "      <td>High</td>\n",
       "      <td>29.520170</td>\n",
       "      <td>2.333157</td>\n",
       "      <td>Nano</td>\n",
       "      <td>264.592233</td>\n",
       "    </tr>\n",
       "    <tr>\n",
       "      <th>9</th>\n",
       "      <td>Low</td>\n",
       "      <td>3.773287</td>\n",
       "      <td>0.135074</td>\n",
       "      <td>Nano</td>\n",
       "      <td>55.674214</td>\n",
       "    </tr>\n",
       "  </tbody>\n",
       "</table>\n",
       "</div>"
      ],
      "text/plain": [
       "       TV      Radio  Social Media Influencer       Sales\n",
       "0     Low   1.218354      1.270444      Micro   90.054222\n",
       "1  Medium  14.949791      0.274451      Macro  222.741668\n",
       "2     Low  10.377258      0.061984       Mega  102.774790\n",
       "3    High  26.469274      7.070945      Micro  328.239378\n",
       "4    High  36.876302      7.618605       Mega  351.807328\n",
       "5    High  25.561910      5.459718      Micro  261.966812\n",
       "6    High  37.263819      6.886535       Nano  349.861575\n",
       "7     Low  13.187256      2.766352      Macro  140.415286\n",
       "8    High  29.520170      2.333157       Nano  264.592233\n",
       "9     Low   3.773287      0.135074       Nano   55.674214"
      ]
     },
     "execution_count": 3,
     "metadata": {},
     "output_type": "execute_result"
    }
   ],
   "source": [
    "data.head(10)"
   ]
  },
  {
   "cell_type": "markdown",
   "id": "8e0c85fe",
   "metadata": {},
   "source": [
    "## **Step 2: Data exploration** \n"
   ]
  },
  {
   "cell_type": "markdown",
   "id": "d7c5fa8c",
   "metadata": {},
   "source": [
    "First, use a boxplot to determine how `Sales` vary based on the `TV` promotion budget category."
   ]
  },
  {
   "cell_type": "code",
   "execution_count": 4,
   "id": "23737429",
   "metadata": {},
   "outputs": [
    {
     "data": {
      "image/png": "[encoded data removed]",
      "text/plain": [
       "<Figure size 640x480 with 1 Axes>"
      ]
     },
     "metadata": {},
     "output_type": "display_data"
    }
   ],
   "source": [
    "sns.boxplot(x = \"TV\", y = \"Sales\", data = data);"
   ]
  },
  {
   "cell_type": "markdown",
   "id": "d36d0a93",
   "metadata": {},
   "source": [
    "Now, use a boxplot to determine how `Sales` vary based on the `Influencer` size category."
   ]
  },
  {
   "cell_type": "code",
   "execution_count": 5,
   "id": "5797e55b",
   "metadata": {},
   "outputs": [
    {
     "data": {
      "image/png": "[encoded data removed]",
      "text/plain": [
       "<Figure size 640x480 with 1 Axes>"
      ]
     },
     "metadata": {},
     "output_type": "display_data"
    }
   ],
   "source": [
    "sns.boxplot(x = \"Influencer\", y = \"Sales\", data = data);"
   ]
  },
  {
   "cell_type": "markdown",
   "id": "fe432c1f",
   "metadata": {},
   "source": [
    "### Checking Null Values"
   ]
  },
  {
   "cell_type": "code",
   "execution_count": 6,
   "id": "7aa573af",
   "metadata": {},
   "outputs": [
    {
     "data": {
      "text/plain": [
       "TV              1\n",
       "Radio           1\n",
       "Social Media    0\n",
       "Influencer      0\n",
       "Sales           1\n",
       "dtype: int64"
      ]
     },
     "execution_count": 6,
     "metadata": {},
     "output_type": "execute_result"
    }
   ],
   "source": [
    "data.isnull().sum(axis=0)"
   ]
  },
  {
   "cell_type": "markdown",
   "id": "f9f7b454",
   "metadata": {},
   "source": [
    "### Remove missing data\n",
    "\n",
    "You may recall from prior labs that this dataset contains rows with missing values. To correct this, drop these rows. Then, confirm the data contains no missing values."
   ]
  },
  {
   "cell_type": "code",
   "execution_count": 7,
   "id": "676b9444",
   "metadata": {},
   "outputs": [],
   "source": [
    "data = data.dropna(axis=0)\n"
   ]
  },
  {
   "cell_type": "code",
   "execution_count": 8,
   "id": "06270b7e",
   "metadata": {},
   "outputs": [
    {
     "data": {
      "text/plain": [
       "TV              0\n",
       "Radio           0\n",
       "Social Media    0\n",
       "Influencer      0\n",
       "Sales           0\n",
       "dtype: int64"
      ]
     },
     "execution_count": 8,
     "metadata": {},
     "output_type": "execute_result"
    }
   ],
   "source": [
    "data.isnull().sum(axis=0)"
   ]
  },
  {
   "cell_type": "markdown",
   "id": "c26e4272",
   "metadata": {},
   "source": [
    "## **Step 3: Model building** "
   ]
  },
  {
   "cell_type": "markdown",
   "id": "078de65b",
   "metadata": {},
   "source": [
    "Fit a linear regression model that predicts `Sales` using one of the independent categorical variables in `data`. Refer to your previous code for defining and fitting a linear regression model.\n"
   ]
  },
  {
   "cell_type": "code",
   "execution_count": 9,
   "id": "96f3733e",
   "metadata": {},
   "outputs": [],
   "source": [
    "ols_formula = 'Sales ~ C(TV)'"
   ]
  },
  {
   "cell_type": "code",
   "execution_count": 10,
   "id": "b76b70ce",
   "metadata": {},
   "outputs": [],
   "source": [
    "OLS = ols(formula = ols_formula, data = data)"
   ]
  },
  {
   "cell_type": "code",
   "execution_count": 11,
   "id": "34260ba1",
   "metadata": {},
   "outputs": [],
   "source": [
    "model = OLS.fit()"
   ]
  },
  {
   "cell_type": "code",
   "execution_count": 12,
   "id": "0a71ecfa",
   "metadata": {},
   "outputs": [
    {
     "data": {
      "text/html": [
       "<table class=\"simpletable\">\n",
       "<caption>OLS Regression Results</caption>\n",
       "<tr>\n",
       "  <th>Dep. Variable:</th>          <td>Sales</td>      <th>  R-squared:         </th> <td>   0.874</td> \n",
       "</tr>\n",
       "<tr>\n",
       "  <th>Model:</th>                   <td>OLS</td>       <th>  Adj. R-squared:    </th> <td>   0.874</td> \n",
       "</tr>\n",
       "<tr>\n",
       "  <th>Method:</th>             <td>Least Squares</td>  <th>  F-statistic:       </th> <td>   1971.</td> \n",
       "</tr>\n",
       "<tr>\n",
       "  <th>Date:</th>             <td>Mon, 22 Apr 2024</td> <th>  Prob (F-statistic):</th> <td>8.81e-256</td>\n",
       "</tr>\n",
       "<tr>\n",
       "  <th>Time:</th>                 <td>10:14:17</td>     <th>  Log-Likelihood:    </th> <td> -2778.9</td> \n",
       "</tr>\n",
       "<tr>\n",
       "  <th>No. Observations:</th>      <td>   569</td>      <th>  AIC:               </th> <td>   5564.</td> \n",
       "</tr>\n",
       "<tr>\n",
       "  <th>Df Residuals:</th>          <td>   566</td>      <th>  BIC:               </th> <td>   5577.</td> \n",
       "</tr>\n",
       "<tr>\n",
       "  <th>Df Model:</th>              <td>     2</td>      <th>                     </th>     <td> </td>    \n",
       "</tr>\n",
       "<tr>\n",
       "  <th>Covariance Type:</th>      <td>nonrobust</td>    <th>                     </th>     <td> </td>    \n",
       "</tr>\n",
       "</table>\n",
       "<table class=\"simpletable\">\n",
       "<tr>\n",
       "         <td></td>            <th>coef</th>     <th>std err</th>      <th>t</th>      <th>P>|t|</th>  <th>[0.025</th>    <th>0.975]</th>  \n",
       "</tr>\n",
       "<tr>\n",
       "  <th>Intercept</th>       <td>  300.5296</td> <td>    2.417</td> <td>  124.360</td> <td> 0.000</td> <td>  295.783</td> <td>  305.276</td>\n",
       "</tr>\n",
       "<tr>\n",
       "  <th>C(TV)[T.Low]</th>    <td> -208.8133</td> <td>    3.329</td> <td>  -62.720</td> <td> 0.000</td> <td> -215.353</td> <td> -202.274</td>\n",
       "</tr>\n",
       "<tr>\n",
       "  <th>C(TV)[T.Medium]</th> <td> -101.5061</td> <td>    3.325</td> <td>  -30.526</td> <td> 0.000</td> <td> -108.038</td> <td>  -94.975</td>\n",
       "</tr>\n",
       "</table>\n",
       "<table class=\"simpletable\">\n",
       "<tr>\n",
       "  <th>Omnibus:</th>       <td>450.714</td> <th>  Durbin-Watson:     </th> <td>   2.002</td>\n",
       "</tr>\n",
       "<tr>\n",
       "  <th>Prob(Omnibus):</th> <td> 0.000</td>  <th>  Jarque-Bera (JB):  </th> <td>  35.763</td>\n",
       "</tr>\n",
       "<tr>\n",
       "  <th>Skew:</th>          <td>-0.044</td>  <th>  Prob(JB):          </th> <td>1.71e-08</td>\n",
       "</tr>\n",
       "<tr>\n",
       "  <th>Kurtosis:</th>      <td> 1.775</td>  <th>  Cond. No.          </th> <td>    3.86</td>\n",
       "</tr>\n",
       "</table><br/><br/>Notes:<br/>[1] Standard Errors assume that the covariance matrix of the errors is correctly specified."
      ],
      "text/latex": [
       "\\begin{center}\n",
       "\\begin{tabular}{lclc}\n",
       "\\toprule\n",
       "\\textbf{Dep. Variable:}    &      Sales       & \\textbf{  R-squared:         } &     0.874   \\\\\n",
       "\\textbf{Model:}            &       OLS        & \\textbf{  Adj. R-squared:    } &     0.874   \\\\\n",
       "\\textbf{Method:}           &  Least Squares   & \\textbf{  F-statistic:       } &     1971.   \\\\\n",
       "\\textbf{Date:}             & Mon, 22 Apr 2024 & \\textbf{  Prob (F-statistic):} & 8.81e-256   \\\\\n",
       "\\textbf{Time:}             &     10:14:17     & \\textbf{  Log-Likelihood:    } &   -2778.9   \\\\\n",
       "\\textbf{No. Observations:} &         569      & \\textbf{  AIC:               } &     5564.   \\\\\n",
       "\\textbf{Df Residuals:}     &         566      & \\textbf{  BIC:               } &     5577.   \\\\\n",
       "\\textbf{Df Model:}         &           2      & \\textbf{                     } &             \\\\\n",
       "\\textbf{Covariance Type:}  &    nonrobust     & \\textbf{                     } &             \\\\\n",
       "\\bottomrule\n",
       "\\end{tabular}\n",
       "\\begin{tabular}{lcccccc}\n",
       "                         & \\textbf{coef} & \\textbf{std err} & \\textbf{t} & \\textbf{P$> |$t$|$} & \\textbf{[0.025} & \\textbf{0.975]}  \\\\\n",
       "\\midrule\n",
       "\\textbf{Intercept}       &     300.5296  &        2.417     &   124.360  &         0.000        &      295.783    &      305.276     \\\\\n",
       "\\textbf{C(TV)[T.Low]}    &    -208.8133  &        3.329     &   -62.720  &         0.000        &     -215.353    &     -202.274     \\\\\n",
       "\\textbf{C(TV)[T.Medium]} &    -101.5061  &        3.325     &   -30.526  &         0.000        &     -108.038    &      -94.975     \\\\\n",
       "\\bottomrule\n",
       "\\end{tabular}\n",
       "\\begin{tabular}{lclc}\n",
       "\\textbf{Omnibus:}       & 450.714 & \\textbf{  Durbin-Watson:     } &    2.002  \\\\\n",
       "\\textbf{Prob(Omnibus):} &   0.000 & \\textbf{  Jarque-Bera (JB):  } &   35.763  \\\\\n",
       "\\textbf{Skew:}          &  -0.044 & \\textbf{  Prob(JB):          } & 1.71e-08  \\\\\n",
       "\\textbf{Kurtosis:}      &   1.775 & \\textbf{  Cond. No.          } &     3.86  \\\\\n",
       "\\bottomrule\n",
       "\\end{tabular}\n",
       "%\\caption{OLS Regression Results}\n",
       "\\end{center}\n",
       "\n",
       "Notes: \\newline\n",
       " [1] Standard Errors assume that the covariance matrix of the errors is correctly specified."
      ],
      "text/plain": [
       "<class 'statsmodels.iolib.summary.Summary'>\n",
       "\"\"\"\n",
       "                            OLS Regression Results                            \n",
       "==============================================================================\n",
       "Dep. Variable:                  Sales   R-squared:                       0.874\n",
       "Model:                            OLS   Adj. R-squared:                  0.874\n",
       "Method:                 Least Squares   F-statistic:                     1971.\n",
       "Date:                Mon, 22 Apr 2024   Prob (F-statistic):          8.81e-256\n",
       "Time:                        10:14:17   Log-Likelihood:                -2778.9\n",
       "No. Observations:                 569   AIC:                             5564.\n",
       "Df Residuals:                     566   BIC:                             5577.\n",
       "Df Model:                           2                                         \n",
       "Covariance Type:            nonrobust                                         \n",
       "===================================================================================\n",
       "                      coef    std err          t      P>|t|      [0.025      0.975]\n",
       "-----------------------------------------------------------------------------------\n",
       "Intercept         300.5296      2.417    124.360      0.000     295.783     305.276\n",
       "C(TV)[T.Low]     -208.8133      3.329    -62.720      0.000    -215.353    -202.274\n",
       "C(TV)[T.Medium]  -101.5061      3.325    -30.526      0.000    -108.038     -94.975\n",
       "==============================================================================\n",
       "Omnibus:                      450.714   Durbin-Watson:                   2.002\n",
       "Prob(Omnibus):                  0.000   Jarque-Bera (JB):               35.763\n",
       "Skew:                          -0.044   Prob(JB):                     1.71e-08\n",
       "Kurtosis:                       1.775   Cond. No.                         3.86\n",
       "==============================================================================\n",
       "\n",
       "Notes:\n",
       "[1] Standard Errors assume that the covariance matrix of the errors is correctly specified.\n",
       "\"\"\""
      ]
     },
     "execution_count": 12,
     "metadata": {},
     "output_type": "execute_result"
    }
   ],
   "source": [
    "model_results = model.summary()\n",
    "\n",
    "model_results"
   ]
  },
  {
   "cell_type": "markdown",
   "id": "692e5142",
   "metadata": {},
   "source": [
    "### Check model assumptions"
   ]
  },
  {
   "cell_type": "markdown",
   "id": "4be6b0d2",
   "metadata": {},
   "source": [
    "Now, check the four linear regression assumptions are upheld for your model.\n",
    "\n",
    "**Question:** Is the linearity assumption met?\n",
    "\n",
    "Because your model does not have any continuous independent variables, the linearity assumption is not required. \n",
    "\n",
    "The independent observation assumption states that each observation in the dataset is independent. As each marketing promotion (row) is independent from one another, the independence assumption is not violated.\n",
    "\n",
    "Next, verify that the normality assumption is upheld for the model."
   ]
  },
  {
   "cell_type": "code",
   "execution_count": 15,
   "id": "8810065f",
   "metadata": {},
   "outputs": [
    {
     "name": "stderr",
     "output_type": "stream",
     "text": [
      "C:\\Users\\tomar\\anaconda3\\Lib\\site-packages\\seaborn\\_oldcore.py:1119: FutureWarning: use_inf_as_na option is deprecated and will be removed in a future version. Convert inf values to NaN before operating instead.\n",
      "  with pd.option_context('mode.use_inf_as_na', True):\n"
     ]
    },
    {
     "data": {
      "text/plain": [
       "Text(0.5, 1.0, 'Histogram of Residuals')"
      ]
     },
     "execution_count": 15,
     "metadata": {},
     "output_type": "execute_result"
    },
    {
     "data": {
      "image/png": "[encoded data removed]",
      "text/plain": [
       "<Figure size 640x480 with 1 Axes>"
      ]
     },
     "metadata": {},
     "output_type": "display_data"
    }
   ],
   "source": [
    "residuals = model.resid\n",
    "\n",
    "sns.histplot(residuals)\n",
    "plt.xlabel(\"Residual Value\")\n",
    "plt.title(\"Histogram of Residuals\")"
   ]
  },
  {
   "cell_type": "code",
   "execution_count": 16,
   "id": "c62dcb41",
   "metadata": {},
   "outputs": [
    {
     "data": {
      "text/plain": [
       "Text(0.5, 1.0, 'Normal QQ plot')"
      ]
     },
     "execution_count": 16,
     "metadata": {},
     "output_type": "execute_result"
    },
    {
     "data": {
      "image/png": "[encoded data removed]",
      "text/plain": [
       "<Figure size 640x480 with 1 Axes>"
      ]
     },
     "metadata": {},
     "output_type": "display_data"
    }
   ],
   "source": [
    "sm.qqplot(residuals,line='s')\n",
    "plt.title('Normal QQ plot')"
   ]
  },
  {
   "cell_type": "markdown",
   "id": "ede446b0",
   "metadata": {},
   "source": [
    "**Question:** Is the normality assumption met?\n",
    "\n",
    "There is reasonable concern that the normality assumption is not met when `TV` is used as the independent variable predicting `Sales`. The normal q-q forms an 'S' that deviates off the red diagonal line, which is not desired behavior. \n",
    "\n",
    "However, for the purpose of the lab, continue assuming the normality assumption is met."
   ]
  },
  {
   "cell_type": "markdown",
   "id": "f8cf1da9",
   "metadata": {},
   "source": [
    "Now, verify the constant variance (homoscedasticity) assumption is met for this model."
   ]
  },
  {
   "cell_type": "code",
   "execution_count": 17,
   "id": "df2523f0",
   "metadata": {},
   "outputs": [
    {
     "data": {
      "image/png": "[encoded data removed]",
      "text/plain": [
       "<Figure size 640x480 with 1 Axes>"
      ]
     },
     "metadata": {},
     "output_type": "display_data"
    }
   ],
   "source": [
    "fig = sns.scatterplot(x = model.fittedvalues, y = model.resid)\n",
    "\n",
    "fig.set_xlabel(\"Fitted Values\")\n",
    "\n",
    "fig.set_ylabel(\"Residuals\")\n",
    "\n",
    "fig.set_title(\"Fitted Values v. Residuals\")\n",
    "\n",
    "fig.axhline(0)\n",
    "\n",
    "plt.show()"
   ]
  },
  {
   "cell_type": "markdown",
   "id": "5c7ae52a",
   "metadata": {},
   "source": [
    "## **Step 4: Results and evaluation** \n",
    "\n",
    "First, display the OLS regression results."
   ]
  },
  {
   "cell_type": "code",
   "execution_count": 19,
   "id": "597635ab",
   "metadata": {},
   "outputs": [
    {
     "data": {
      "text/html": [
       "<table class=\"simpletable\">\n",
       "<caption>OLS Regression Results</caption>\n",
       "<tr>\n",
       "  <th>Dep. Variable:</th>          <td>Sales</td>      <th>  R-squared:         </th> <td>   0.874</td> \n",
       "</tr>\n",
       "<tr>\n",
       "  <th>Model:</th>                   <td>OLS</td>       <th>  Adj. R-squared:    </th> <td>   0.874</td> \n",
       "</tr>\n",
       "<tr>\n",
       "  <th>Method:</th>             <td>Least Squares</td>  <th>  F-statistic:       </th> <td>   1971.</td> \n",
       "</tr>\n",
       "<tr>\n",
       "  <th>Date:</th>             <td>Mon, 22 Apr 2024</td> <th>  Prob (F-statistic):</th> <td>8.81e-256</td>\n",
       "</tr>\n",
       "<tr>\n",
       "  <th>Time:</th>                 <td>10:14:17</td>     <th>  Log-Likelihood:    </th> <td> -2778.9</td> \n",
       "</tr>\n",
       "<tr>\n",
       "  <th>No. Observations:</th>      <td>   569</td>      <th>  AIC:               </th> <td>   5564.</td> \n",
       "</tr>\n",
       "<tr>\n",
       "  <th>Df Residuals:</th>          <td>   566</td>      <th>  BIC:               </th> <td>   5577.</td> \n",
       "</tr>\n",
       "<tr>\n",
       "  <th>Df Model:</th>              <td>     2</td>      <th>                     </th>     <td> </td>    \n",
       "</tr>\n",
       "<tr>\n",
       "  <th>Covariance Type:</th>      <td>nonrobust</td>    <th>                     </th>     <td> </td>    \n",
       "</tr>\n",
       "</table>\n",
       "<table class=\"simpletable\">\n",
       "<tr>\n",
       "         <td></td>            <th>coef</th>     <th>std err</th>      <th>t</th>      <th>P>|t|</th>  <th>[0.025</th>    <th>0.975]</th>  \n",
       "</tr>\n",
       "<tr>\n",
       "  <th>Intercept</th>       <td>  300.5296</td> <td>    2.417</td> <td>  124.360</td> <td> 0.000</td> <td>  295.783</td> <td>  305.276</td>\n",
       "</tr>\n",
       "<tr>\n",
       "  <th>C(TV)[T.Low]</th>    <td> -208.8133</td> <td>    3.329</td> <td>  -62.720</td> <td> 0.000</td> <td> -215.353</td> <td> -202.274</td>\n",
       "</tr>\n",
       "<tr>\n",
       "  <th>C(TV)[T.Medium]</th> <td> -101.5061</td> <td>    3.325</td> <td>  -30.526</td> <td> 0.000</td> <td> -108.038</td> <td>  -94.975</td>\n",
       "</tr>\n",
       "</table>\n",
       "<table class=\"simpletable\">\n",
       "<tr>\n",
       "  <th>Omnibus:</th>       <td>450.714</td> <th>  Durbin-Watson:     </th> <td>   2.002</td>\n",
       "</tr>\n",
       "<tr>\n",
       "  <th>Prob(Omnibus):</th> <td> 0.000</td>  <th>  Jarque-Bera (JB):  </th> <td>  35.763</td>\n",
       "</tr>\n",
       "<tr>\n",
       "  <th>Skew:</th>          <td>-0.044</td>  <th>  Prob(JB):          </th> <td>1.71e-08</td>\n",
       "</tr>\n",
       "<tr>\n",
       "  <th>Kurtosis:</th>      <td> 1.775</td>  <th>  Cond. No.          </th> <td>    3.86</td>\n",
       "</tr>\n",
       "</table><br/><br/>Notes:<br/>[1] Standard Errors assume that the covariance matrix of the errors is correctly specified."
      ],
      "text/latex": [
       "\\begin{center}\n",
       "\\begin{tabular}{lclc}\n",
       "\\toprule\n",
       "\\textbf{Dep. Variable:}    &      Sales       & \\textbf{  R-squared:         } &     0.874   \\\\\n",
       "\\textbf{Model:}            &       OLS        & \\textbf{  Adj. R-squared:    } &     0.874   \\\\\n",
       "\\textbf{Method:}           &  Least Squares   & \\textbf{  F-statistic:       } &     1971.   \\\\\n",
       "\\textbf{Date:}             & Mon, 22 Apr 2024 & \\textbf{  Prob (F-statistic):} & 8.81e-256   \\\\\n",
       "\\textbf{Time:}             &     10:14:17     & \\textbf{  Log-Likelihood:    } &   -2778.9   \\\\\n",
       "\\textbf{No. Observations:} &         569      & \\textbf{  AIC:               } &     5564.   \\\\\n",
       "\\textbf{Df Residuals:}     &         566      & \\textbf{  BIC:               } &     5577.   \\\\\n",
       "\\textbf{Df Model:}         &           2      & \\textbf{                     } &             \\\\\n",
       "\\textbf{Covariance Type:}  &    nonrobust     & \\textbf{                     } &             \\\\\n",
       "\\bottomrule\n",
       "\\end{tabular}\n",
       "\\begin{tabular}{lcccccc}\n",
       "                         & \\textbf{coef} & \\textbf{std err} & \\textbf{t} & \\textbf{P$> |$t$|$} & \\textbf{[0.025} & \\textbf{0.975]}  \\\\\n",
       "\\midrule\n",
       "\\textbf{Intercept}       &     300.5296  &        2.417     &   124.360  &         0.000        &      295.783    &      305.276     \\\\\n",
       "\\textbf{C(TV)[T.Low]}    &    -208.8133  &        3.329     &   -62.720  &         0.000        &     -215.353    &     -202.274     \\\\\n",
       "\\textbf{C(TV)[T.Medium]} &    -101.5061  &        3.325     &   -30.526  &         0.000        &     -108.038    &      -94.975     \\\\\n",
       "\\bottomrule\n",
       "\\end{tabular}\n",
       "\\begin{tabular}{lclc}\n",
       "\\textbf{Omnibus:}       & 450.714 & \\textbf{  Durbin-Watson:     } &    2.002  \\\\\n",
       "\\textbf{Prob(Omnibus):} &   0.000 & \\textbf{  Jarque-Bera (JB):  } &   35.763  \\\\\n",
       "\\textbf{Skew:}          &  -0.044 & \\textbf{  Prob(JB):          } & 1.71e-08  \\\\\n",
       "\\textbf{Kurtosis:}      &   1.775 & \\textbf{  Cond. No.          } &     3.86  \\\\\n",
       "\\bottomrule\n",
       "\\end{tabular}\n",
       "%\\caption{OLS Regression Results}\n",
       "\\end{center}\n",
       "\n",
       "Notes: \\newline\n",
       " [1] Standard Errors assume that the covariance matrix of the errors is correctly specified."
      ],
      "text/plain": [
       "<class 'statsmodels.iolib.summary.Summary'>\n",
       "\"\"\"\n",
       "                            OLS Regression Results                            \n",
       "==============================================================================\n",
       "Dep. Variable:                  Sales   R-squared:                       0.874\n",
       "Model:                            OLS   Adj. R-squared:                  0.874\n",
       "Method:                 Least Squares   F-statistic:                     1971.\n",
       "Date:                Mon, 22 Apr 2024   Prob (F-statistic):          8.81e-256\n",
       "Time:                        10:14:17   Log-Likelihood:                -2778.9\n",
       "No. Observations:                 569   AIC:                             5564.\n",
       "Df Residuals:                     566   BIC:                             5577.\n",
       "Df Model:                           2                                         \n",
       "Covariance Type:            nonrobust                                         \n",
       "===================================================================================\n",
       "                      coef    std err          t      P>|t|      [0.025      0.975]\n",
       "-----------------------------------------------------------------------------------\n",
       "Intercept         300.5296      2.417    124.360      0.000     295.783     305.276\n",
       "C(TV)[T.Low]     -208.8133      3.329    -62.720      0.000    -215.353    -202.274\n",
       "C(TV)[T.Medium]  -101.5061      3.325    -30.526      0.000    -108.038     -94.975\n",
       "==============================================================================\n",
       "Omnibus:                      450.714   Durbin-Watson:                   2.002\n",
       "Prob(Omnibus):                  0.000   Jarque-Bera (JB):               35.763\n",
       "Skew:                          -0.044   Prob(JB):                     1.71e-08\n",
       "Kurtosis:                       1.775   Cond. No.                         3.86\n",
       "==============================================================================\n",
       "\n",
       "Notes:\n",
       "[1] Standard Errors assume that the covariance matrix of the errors is correctly specified.\n",
       "\"\"\""
      ]
     },
     "execution_count": 19,
     "metadata": {},
     "output_type": "execute_result"
    }
   ],
   "source": [
    "model_results"
   ]
  },
  {
   "cell_type": "markdown",
   "id": "03490373",
   "metadata": {},
   "source": [
    "### Perform a one-way ANOVA test\n",
    "\n",
    "With the model fit, run a one-way ANOVA test to determine whether there is a statistically significant difference in `Sales` among groups. "
   ]
  },
  {
   "cell_type": "code",
   "execution_count": 20,
   "id": "bb6e2a10",
   "metadata": {},
   "outputs": [
    {
     "data": {
      "text/html": [
       "<div>\n",
       "<style scoped>\n",
       "    .dataframe tbody tr th:only-of-type {\n",
       "        vertical-align: middle;\n",
       "    }\n",
       "\n",
       "    .dataframe tbody tr th {\n",
       "        vertical-align: top;\n",
       "    }\n",
       "\n",
       "    .dataframe thead th {\n",
       "        text-align: right;\n",
       "    }\n",
       "</style>\n",
       "<table border=\"1\" class=\"dataframe\">\n",
       "  <thead>\n",
       "    <tr style=\"text-align: right;\">\n",
       "      <th></th>\n",
       "      <th>sum_sq</th>\n",
       "      <th>df</th>\n",
       "      <th>F</th>\n",
       "      <th>PR(&gt;F)</th>\n",
       "    </tr>\n",
       "  </thead>\n",
       "  <tbody>\n",
       "    <tr>\n",
       "      <th>C(TV)</th>\n",
       "      <td>4.052692e+06</td>\n",
       "      <td>2.0</td>\n",
       "      <td>1971.455737</td>\n",
       "      <td>8.805550e-256</td>\n",
       "    </tr>\n",
       "    <tr>\n",
       "      <th>Residual</th>\n",
       "      <td>5.817589e+05</td>\n",
       "      <td>566.0</td>\n",
       "      <td>NaN</td>\n",
       "      <td>NaN</td>\n",
       "    </tr>\n",
       "  </tbody>\n",
       "</table>\n",
       "</div>"
      ],
      "text/plain": [
       "                sum_sq     df            F         PR(>F)\n",
       "C(TV)     4.052692e+06    2.0  1971.455737  8.805550e-256\n",
       "Residual  5.817589e+05  566.0          NaN            NaN"
      ]
     },
     "execution_count": 20,
     "metadata": {},
     "output_type": "execute_result"
    }
   ],
   "source": [
    "sm.stats.anova_lm(model, typ=2)"
   ]
  },
  {
   "cell_type": "markdown",
   "id": "957cc6f7",
   "metadata": {},
   "source": [
    "### Perform an ANOVA post hoc test\n",
    "\n",
    "If you have significant results from the one-way ANOVA test, you can apply ANOVA post hoc tests such as the Tukey’s HSD post hoc test. \n",
    "\n",
    "Run the Tukey’s HSD post hoc test to compare if there is a significant difference between each pair of categories for TV."
   ]
  },
  {
   "cell_type": "code",
   "execution_count": 21,
   "id": "a984e280",
   "metadata": {},
   "outputs": [
    {
     "data": {
      "text/html": [
       "<table class=\"simpletable\">\n",
       "<caption>Multiple Comparison of Means - Tukey HSD, FWER=0.05</caption>\n",
       "<tr>\n",
       "  <th>group1</th> <th>group2</th> <th>meandiff</th>  <th>p-adj</th>   <th>lower</th>     <th>upper</th>   <th>reject</th>\n",
       "</tr>\n",
       "<tr>\n",
       "   <td>High</td>    <td>Low</td>  <td>-208.8133</td>  <td>0.0</td>  <td>-216.6367</td> <td>-200.9898</td>  <td>True</td> \n",
       "</tr>\n",
       "<tr>\n",
       "   <td>High</td>  <td>Medium</td> <td>-101.5061</td>  <td>0.0</td>  <td>-109.3202</td> <td>-93.6921</td>   <td>True</td> \n",
       "</tr>\n",
       "<tr>\n",
       "    <td>Low</td>  <td>Medium</td> <td>107.3072</td>   <td>0.0</td>   <td>99.7066</td>  <td>114.9077</td>   <td>True</td> \n",
       "</tr>\n",
       "</table>"
      ],
      "text/latex": [
       "\\begin{center}\n",
       "\\begin{tabular}{ccccccc}\n",
       "\\toprule\n",
       "\\textbf{group1} & \\textbf{group2} & \\textbf{meandiff} & \\textbf{p-adj} & \\textbf{lower} & \\textbf{upper} & \\textbf{reject}  \\\\\n",
       "\\midrule\n",
       "      High      &       Low       &     -208.8133     &      0.0       &   -216.6367    &   -200.9898    &       True       \\\\\n",
       "      High      &      Medium     &     -101.5061     &      0.0       &   -109.3202    &    -93.6921    &       True       \\\\\n",
       "      Low       &      Medium     &      107.3072     &      0.0       &    99.7066     &    114.9077    &       True       \\\\\n",
       "\\bottomrule\n",
       "\\end{tabular}\n",
       "%\\caption{Multiple Comparison of Means - Tukey HSD, FWER=0.05}\n",
       "\\end{center}"
      ],
      "text/plain": [
       "<class 'statsmodels.iolib.table.SimpleTable'>"
      ]
     },
     "execution_count": 21,
     "metadata": {},
     "output_type": "execute_result"
    }
   ],
   "source": [
    "tukey_oneway = pairwise_tukeyhsd(endog = data[\"Sales\"], groups = data[\"TV\"])\n",
    "\n",
    "tukey_oneway.summary()"
   ]
  }
 ],
 "metadata": {
  "kernelspec": {
   "display_name": "Python 3 (ipykernel)",
   "language": "python",
   "name": "python3"
  },
  "language_info": {
   "codemirror_mode": {
    "name": "ipython",
    "version": 3
   },
   "file_extension": ".py",
   "mimetype": "text/x-python",
   "name": "python",
   "nbconvert_exporter": "python",
   "pygments_lexer": "ipython3",
   "version": "3.11.8"
  }
 },
 "nbformat": 4,
 "nbformat_minor": 5
}
